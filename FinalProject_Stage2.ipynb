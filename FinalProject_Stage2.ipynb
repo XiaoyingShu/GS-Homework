{
 "cells": [
  {
   "cell_type": "markdown",
   "metadata": {},
   "source": [
    "### Project Goal:  \n",
    "    To analyze the relationship of individual bonds (Strips) return and the driver of the return. \n",
    "    There are three hypothesis I would like to test.\n",
    "1. Based on the yield of bond, we can calculate roll down return (Yt-Y(t-1))*dur(t), the roll down return is highly positively correlated with subsequent return.\n",
    "\n",
    "2. Based on the yield difference of Strips and Principle Strips (aggregated based on maturity buckets), there is a mean-reverting feature.\n",
    "\n",
    "3. Principle Strip curve is highly correlated with the bonds yield it was stripped from.\n",
    "\n",
    "With the analysis, the goal is I can based on above three factors to create a portfolio outperforming the index.\n"
   ]
  },
  {
   "cell_type": "markdown",
   "metadata": {},
   "source": [
    "### Method to use:   \n",
    "\n",
    "Linear Regression, Cross Validation, and optimization function which is beyond this class (need some search).\n",
    "My major challenge is to organize the data, so it can be used more effectively."
   ]
  },
  {
   "cell_type": "markdown",
   "metadata": {},
   "source": [
    "### Data:\n",
    "1. The data were downloaded based on maturity of the bonds, due to Fed's auction schedule and strip schedule, not all period has strips. So the data we downloaded have a lot of missing data, which we do not need to be filled.\n",
    "2. Raw Data, includes all the data for each bond (yield, maturity, duration, index market value and return)\n",
    "3. Derived Data:  \n",
    "    *First Analysis: Based on raw data, we need to calculate roll_down_return for each bond. Biggest challenge is how to handle missing data.\n",
    "    \n",
    "    *Second Analysis:  Group Interest Strip and Principle Strip by maturity and take average, create average yield, average return, and then take the difference. Run regression analysis using above. Then calculate historical mean, standard deviation and find the pattern. \n",
    "    \n",
    "    *Third Analysis:  Needs to link the nominal bonds yield with principle strip yield."
   ]
  },
  {
   "cell_type": "markdown",
   "metadata": {},
   "source": [
    "### Assumptions:\n",
    "   Yield and Return are all based on Log Norm Distribution. The market is efficient so any difference will mean reverting to average. The three factors are un-correlated with each other. (need to be tested)"
   ]
  },
  {
   "cell_type": "markdown",
   "metadata": {},
   "source": [
    "### Primary Risks and Challenge:\n",
    "The data we downloaded is monthly data for last 10 years, the interest rate in this period of history is mostly moving down, so there is a bias. And going forward, we will be in a period that interest rate will move up. So will history repeat?"
   ]
  }
 ],
 "metadata": {
  "kernelspec": {
   "display_name": "Python 3",
   "language": "python",
   "name": "python3"
  },
  "language_info": {
   "codemirror_mode": {
    "name": "ipython",
    "version": 3
   },
   "file_extension": ".py",
   "mimetype": "text/x-python",
   "name": "python",
   "nbconvert_exporter": "python",
   "pygments_lexer": "ipython3",
   "version": "3.6.4"
  }
 },
 "nbformat": 4,
 "nbformat_minor": 2
}
