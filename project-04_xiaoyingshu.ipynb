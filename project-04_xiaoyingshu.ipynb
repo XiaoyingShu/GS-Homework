{
 "cells": [
  {
   "cell_type": "markdown",
   "metadata": {},
   "source": [
    "# Project 4\n",
    "\n",
    "In this project, you will summarize and present your analysis from Projects 1-3."
   ]
  },
  {
   "cell_type": "markdown",
   "metadata": {},
   "source": [
    "### Intro: Write a problem Statement/ Specific Aim for this project"
   ]
  },
  {
   "cell_type": "markdown",
   "metadata": {},
   "source": [
    "Answer: Analyze the relationship of UCLA graduate school acceptance decision with applicants' GPA, GRE and current college's rank. The hypothesis is the acceptance rate is determined by all the three factors. Better school/higher GPA/higher GRE, the odds of acceptance will be higher."
   ]
  },
  {
   "cell_type": "markdown",
   "metadata": {},
   "source": [
    "### Dataset:  Write up a description of your data and any cleaning that was completed"
   ]
  },
  {
   "cell_type": "markdown",
   "metadata": {},
   "source": [
    "Answer: The data's timeframe is not clear, it includes 400 total records, with some missing data. Each record provides admission Decision (admit), GRE (graduate school application test, total score is 800), undergraduate GPA (0-4), school ranks (4 categories, 1 is best ranked college). "
   ]
  },
  {
   "cell_type": "markdown",
   "metadata": {},
   "source": [
    "Variable | Description | Type of Variable\n",
    "---| ---| ---\n",
    "admit| 0 = not accepted 1 = accepted | categorical\n",
    "gre| GRE Score From 0-800, Higher the better | continuous\n",
    "gpa| college GPA From 0-4, Higher the better | continuous\n",
    "prestige| College Rank 1-4 lower the better| categorical\n"
   ]
  },
  {
   "cell_type": "markdown",
   "metadata": {},
   "source": [
    "Two things we did on the data, one is fill in the missing data, we used median value of each set to fill in the data. The second step is use dummy variablies for prestige categorical data, so we can use in our logistic regression analysis."
   ]
  },
  {
   "cell_type": "markdown",
   "metadata": {},
   "source": [
    "### Demo: Provide a table that explains the data by admission status"
   ]
  },
  {
   "cell_type": "markdown",
   "metadata": {},
   "source": [
    "Mean (STD) or counts by admission status for each variable \n",
    "\n",
    "| Not Admitted | Admitted\n",
    "---| ---|---\n",
    "GPA | 3.34(0.38)  | 3.49(0.37)\n",
    "GRE |573.6(116.05) | 618.9(108.9)\n",
    "Prestige 1 | 10.2%| 26%\n",
    "Prestige 2 | 35.5% | 41.7%\n",
    "Prestige 3 |34.1%| 22%\n",
    "Prestige 4 |20.2% | 9.4%"
   ]
  },
  {
   "cell_type": "markdown",
   "metadata": {},
   "source": [
    "### Methods: Write up the methods used in your analysis"
   ]
  },
  {
   "cell_type": "markdown",
   "metadata": {},
   "source": [
    "Answer:We completed a logistic regression using Statsmodels logit.fit. We calculated the odds of admission possibility based on GRE,GPA and College Rank."
   ]
  },
  {
   "cell_type": "markdown",
   "metadata": {},
   "source": [
    "### Results: Write up your results"
   ]
  },
  {
   "cell_type": "markdown",
   "metadata": {},
   "source": [
    "Answer: The regression showed a very positive result from all three factors. The regression showed the odds of acceptance is higher for applicants from top ranked school and GPA. Odds table showed for example, 1 point higher in GPA will increase the odds of acceptance more than 120%. 100 points higher in GRE score will increase the odds of acceptance by 2.2%. The better the school is the odds of acceptance is higher.  For example, not in Ranked 2 school will lose about 50% chance to not get accepted.\n"
   ]
  },
  {
   "cell_type": "markdown",
   "metadata": {},
   "source": [
    "| Odds |\n",
    "---| ---|\n",
    "GPA | 2.2|\n",
    "GRE |1.0022|\n",
    "Prestige 2 | 0.5|\n",
    "Prestige 3 | 0.26|\n",
    "Prestige 4 | 0.21|"
   ]
  },
  {
   "cell_type": "markdown",
   "metadata": {},
   "source": [
    "### Visuals: Provide a table or visualization of these results"
   ]
  },
  {
   "cell_type": "markdown",
   "metadata": {},
   "source": [
    "![LOGISTIC RERESSION RESULT](output.png)"
   ]
  },
  {
   "cell_type": "markdown",
   "metadata": {},
   "source": [
    "![GPA vs GRE](GPAvsGRE.png)"
   ]
  },
  {
   "cell_type": "markdown",
   "metadata": {},
   "source": [
    "![GPA vs School Rank](GPAvsPrestige.png)"
   ]
  },
  {
   "cell_type": "markdown",
   "metadata": {},
   "source": [
    "![GRE vs School Rank](GREvsPrestige.png)"
   ]
  },
  {
   "cell_type": "markdown",
   "metadata": {},
   "source": [
    "### Discussion: Write up your discussion and future steps"
   ]
  },
  {
   "cell_type": "markdown",
   "metadata": {},
   "source": [
    "Doing more analysis of the independent variable choices, if we can find historical data, we can also do more admission data trending analysis."
   ]
  },
  {
   "cell_type": "markdown",
   "metadata": {},
   "source": [
    "Answer: "
   ]
  }
 ],
 "metadata": {
  "kernelspec": {
   "display_name": "Python 3",
   "language": "python",
   "name": "python3"
  },
  "language_info": {
   "codemirror_mode": {
    "name": "ipython",
    "version": 3
   },
   "file_extension": ".py",
   "mimetype": "text/x-python",
   "name": "python",
   "nbconvert_exporter": "python",
   "pygments_lexer": "ipython3",
   "version": "3.6.4"
  }
 },
 "nbformat": 4,
 "nbformat_minor": 2
}
