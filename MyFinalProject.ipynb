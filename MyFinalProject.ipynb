{
 "cells": [
  {
   "cell_type": "code",
   "execution_count": 3,
   "metadata": {},
   "outputs": [
    {
     "name": "stderr",
     "output_type": "stream",
     "text": [
      "/anaconda3/lib/python3.6/site-packages/statsmodels/compat/pandas.py:56: FutureWarning: The pandas.core.datetools module is deprecated and will be removed in a future version. Please use the pandas.tseries module instead.\n",
      "  from pandas.core import datetools\n",
      "/anaconda3/lib/python3.6/site-packages/sklearn/cross_validation.py:41: DeprecationWarning: This module was deprecated in version 0.18 in favor of the model_selection module into which all the refactored classes and functions are moved. Also note that the interface of the new CV iterators are different from that of this module. This module will be removed in 0.20.\n",
      "  \"This module will be removed in 0.20.\", DeprecationWarning)\n",
      "/anaconda3/lib/python3.6/site-packages/sklearn/grid_search.py:42: DeprecationWarning: This module was deprecated in version 0.18 in favor of the model_selection module into which all the refactored classes and functions are moved. This module will be removed in 0.20.\n",
      "  DeprecationWarning)\n"
     ]
    }
   ],
   "source": [
    "import matplotlib.pyplot as plt\n",
    "import pandas as pd\n",
    "import statsmodels.api as sm\n",
    "import pylab as pl\n",
    "import numpy as np\n",
    "\n",
    "\n",
    "from sklearn.linear_model import LinearRegression\n",
    "from sklearn.metrics import roc_curve, roc_auc_score, accuracy_score\n",
    "from sklearn import grid_search, cross_validation\n",
    "from sklearn import linear_model, metrics\n",
    "\n",
    "\n",
    "%matplotlib inline"
   ]
  },
  {
   "cell_type": "markdown",
   "metadata": {},
   "source": [
    "## Reading Data for Principle Strips, Reindex based on date and maturity of the bond, and using values of OAD, Yield, Return and MV to be columns"
   ]
  },
  {
   "cell_type": "code",
   "execution_count": 5,
   "metadata": {},
   "outputs": [],
   "source": [
    "dfOAD= pd.read_csv(\"./data/POAD.csv\")"
   ]
  },
  {
   "cell_type": "code",
   "execution_count": 6,
   "metadata": {},
   "outputs": [],
   "source": [
    "dfOAD['Date']=pd.to_datetime(dfOAD['Date'])\n",
    "dfOAD.set_index(['Date'],drop=True,inplace=True)"
   ]
  },
  {
   "cell_type": "code",
   "execution_count": 7,
   "metadata": {},
   "outputs": [],
   "source": [
    "x=dfOAD\n",
    "y=x.stack()\n",
    "y=y.to_frame()\n",
    "y.columns.names=[\"Maturity\"]\n",
    "y = y.rename(columns= {0: 'OAD'})"
   ]
  },
  {
   "cell_type": "code",
   "execution_count": 9,
   "metadata": {},
   "outputs": [],
   "source": [
    "dfYield= pd.read_csv(\"./data/PYield.csv\")\n",
    "dfYield['Date']=pd.to_datetime(dfYield['Date'])\n",
    "dfYield.set_index(['Date'],drop=True,inplace=True)\n",
    "\n",
    "x1 = dfYield\n",
    "y1=x1.stack()\n",
    "y1=y1.to_frame()\n",
    "y1.columns.names=[\"Maturity\"]\n",
    "y1 = y1.rename(columns= {0: 'Yield'})"
   ]
  },
  {
   "cell_type": "code",
   "execution_count": 10,
   "metadata": {},
   "outputs": [],
   "source": [
    "dfReturn= pd.read_csv(\"./data/PReturn.csv\")\n",
    "dfReturn['Date']=pd.to_datetime(dfReturn['Date'])\n",
    "dfReturn.set_index(['Date'],drop=True,inplace=True)\n",
    "\n",
    "x2 = dfReturn\n",
    "y2=x2.stack()\n",
    "y2=y2.to_frame()\n",
    "y2.columns.names=[\"Maturity\"]\n",
    "y2 = y2.rename(columns= {0: 'Return'})"
   ]
  },
  {
   "cell_type": "code",
   "execution_count": 11,
   "metadata": {},
   "outputs": [],
   "source": [
    "dfMV= pd.read_csv('./data/PMV.csv')\n",
    "dfMV['Date']=pd.to_datetime(dfMV['Date'])\n",
    "dfMV.set_index(['Date'],drop=True,inplace=True)\n",
    "\n",
    "x3 = dfMV\n",
    "y3=x3.stack()\n",
    "y3=y3.to_frame()\n",
    "y3.columns.names=[\"Maturity\"]\n",
    "y3 = y3.rename(columns= {0: 'MarketValue'})"
   ]
  },
  {
   "cell_type": "code",
   "execution_count": 12,
   "metadata": {},
   "outputs": [],
   "source": [
    "frames=[y1,y]\n",
    "\n",
    "#print(frames)\n",
    "data1=pd.concat(frames, keys=[\"Date\",\"Maturity\"],axis=1)\n",
    "\n",
    "frames=[y2,y3]\n",
    "\n",
    "#print(frames)\n",
    "data2=pd.concat(frames, keys=[\"Date\",\"Maturity\"],axis=1)\n",
    "\n",
    "frames=[data1,data2]\n",
    "\n",
    "data=pd.concat(frames, keys=[\"Date\",\"Maturity\"],axis=1)"
   ]
  },
  {
   "cell_type": "code",
   "execution_count": 13,
   "metadata": {},
   "outputs": [],
   "source": [
    "data1=pd.DataFrame(data.values)\n",
    "data1.columns=[\"Yield\",\"OAD\",\"Return\",\"MarketValue\"]\n",
    "data1.index=data.index"
   ]
  },
  {
   "cell_type": "code",
   "execution_count": 14,
   "metadata": {},
   "outputs": [
    {
     "name": "stdout",
     "output_type": "stream",
     "text": [
      "                  Yield    OAD  Return  MarketValue\n",
      "Date                                               \n",
      "1998-12-31 15.75  5.216  10.60    0.45    1764845.0\n",
      "           16     5.336  15.70   -0.01     685366.0\n",
      "           16.5   5.456  16.18    0.47      72978.0\n",
      "           16.75  5.536  16.42    0.98     429867.0\n",
      "           17     5.586  16.66    1.65      32703.0\n",
      "           17.25  5.566  16.90    1.51     100806.0\n",
      "           17.75  5.586  17.38    1.54     367543.0\n",
      "           18.25  5.596  17.87    1.21    3578758.0\n",
      "           18.5   5.596  18.12    1.39    1828482.0\n",
      "           19.25  5.619  18.84    1.57    2098649.0\n",
      "           19.75  5.619  19.33    1.60    2315149.0\n",
      "           20     5.629  19.57    1.81    4691429.0\n",
      "           20.5   5.619  20.06    1.84     482119.0\n",
      "           21     5.619  20.55    1.67    1401298.0\n",
      "           21.25  5.619  20.79    1.69    2365409.0\n",
      "           21.5   5.619  21.03    1.91    4839607.0\n",
      "           22     5.599  21.52    1.72     312678.0\n",
      "           22.25  5.619  21.76    1.97    1666701.0\n",
      "           22.5   5.609  22.01    1.98    1087726.0\n",
      "           22.75  5.599  22.25    1.77    6001612.0\n",
      "           23.5   5.549  22.98    1.57     449237.0\n",
      "           23.75  5.549  23.23    1.59    2135340.0\n",
      "           24     5.519  23.47    1.59    1963900.0\n",
      "           24.5   5.479  23.97    1.61    1029517.0\n",
      "           25.75  5.469  25.18    1.94    2233417.0\n",
      "           26     5.449  25.43    1.94    2201864.0\n",
      "           26.5   5.439  25.92    1.71     904777.0\n",
      "           27     5.409  26.41    2.00      63559.0\n",
      "           27.5   5.429  26.89    2.03     364357.0\n",
      "           27.75  5.429  27.13    2.05     310923.0\n",
      "...                 ...    ...     ...          ...\n",
      "2018-02-28 22.25  3.093  22.58    3.95    1073214.0\n",
      "           22.5   3.098  22.84    3.85    2092828.0\n",
      "           22.75  3.102  23.10    4.08     629363.0\n",
      "           23     3.105  23.35    4.12    1308630.0\n",
      "           23.25  3.117  23.61    4.23    1110818.0\n",
      "           23.5   3.126  23.88    4.25     787524.0\n",
      "           23.75  3.127  24.13    4.35     489018.0\n",
      "           24     3.124  24.39    4.13     591160.0\n",
      "           24.25  3.135  24.65    4.20    1595958.0\n",
      "           24.5   3.141  24.91    4.26    2595087.0\n",
      "           24.75  3.143  25.17    4.30    5800882.0\n",
      "           25     3.149  25.43    4.31    3778403.0\n",
      "           25.25  3.154  25.69    4.48    3536233.0\n",
      "           25.5   3.159  25.95    4.54    1974133.0\n",
      "           25.75  3.157  26.21    4.59    6399960.0\n",
      "           26     3.157  26.47    4.46    5612989.0\n",
      "           26.25  3.157  26.73    4.65    2329410.0\n",
      "           26.5   3.163  26.99    4.72    4004600.0\n",
      "           26.75  3.164  27.25    4.54    3588391.0\n",
      "           27     3.165  27.51    4.68    3328386.0\n",
      "           27.25  3.166  27.77    4.55    5317750.0\n",
      "           27.5   3.168  28.03    4.73    5798787.0\n",
      "           27.75  3.172  28.29    4.85    3134536.0\n",
      "           28     3.173  28.55    4.90    2330175.0\n",
      "           28.25  3.169  28.82    4.83    1406897.0\n",
      "           28.5   3.173  29.08    4.74    3275665.0\n",
      "           28.75  3.168  29.34    4.81    3205586.0\n",
      "           29     3.177  29.59    4.98    2028175.0\n",
      "           29.25  3.176  29.86    4.99    1425111.0\n",
      "           29.5   3.164  30.12    4.66     848490.0\n",
      "\n",
      "[6603 rows x 4 columns]\n"
     ]
    }
   ],
   "source": [
    "print(data1)"
   ]
  },
  {
   "cell_type": "markdown",
   "metadata": {},
   "source": [
    "#### Calculate RollDownReturns Using (Yield1-Yield2)/(Maturity1-Maurity2)*OAD1"
   ]
  },
  {
   "cell_type": "code",
   "execution_count": 15,
   "metadata": {},
   "outputs": [],
   "source": [
    "def RollDownReturn(x,y,z):\n",
    "    r=[]\n",
    "\n",
    "    for i in range(1,len(x)-2,1):\n",
    "        max_x = float(x[-i])\n",
    "        lag_x = float(x[-i-3])\n",
    "        diff_x = max_x - lag_x\n",
    "    \n",
    "        max_y = float(y[-i])\n",
    "        lag_y = float(y[-i-3])\n",
    "        diff_y = max_y - lag_y\n",
    "    \n",
    "        oad_max = float(z[-i])\n",
    "\n",
    "        r.append(diff_y/diff_x*oad_max)\n",
    "    \n",
    "    #The third row\n",
    "    max_x=float(x[-len(x)+2])\n",
    "    lag_x=float(x[-len(x)])\n",
    "    diff_x=max_x-lag_x\n",
    "    \n",
    "    max_y=float(y[-len(x)+2])\n",
    "    lag_y=float(y[-len(x)])\n",
    "    diff_y=max_y-lag_y\n",
    "    \n",
    "    oad_max = float(z[-len(x)+2])\n",
    "    \n",
    "    r.append(diff_y/diff_x*oad_max)\n",
    "    \n",
    "    #The second row\n",
    "    max_x=float(x[-len(x)+1])\n",
    "    lag_x=float(x[-len(x)])\n",
    "    diff_x=max_x-lag_x\n",
    "    \n",
    "    max_y=float(y[-len(x)+1])\n",
    "    lag_y=float(y[-len(x)])\n",
    "    diff_y=max_y-lag_y\n",
    "    \n",
    "    oad_max = float(z[-len(x)+1])\n",
    "    \n",
    "    r.append(diff_y/diff_x*oad_max)\n",
    "    \n",
    "    r.append(0)\n",
    "    r=r[::-1]\n",
    "    return r"
   ]
  },
  {
   "cell_type": "markdown",
   "metadata": {},
   "source": [
    "#### Calculate each bond's return versus average return of within same month, add both rolldown return and relative return fields"
   ]
  },
  {
   "cell_type": "code",
   "execution_count": 16,
   "metadata": {},
   "outputs": [
    {
     "name": "stderr",
     "output_type": "stream",
     "text": [
      "/anaconda3/lib/python3.6/site-packages/ipykernel_launcher.py:6: SettingWithCopyWarning: \n",
      "A value is trying to be set on a copy of a slice from a DataFrame.\n",
      "Try using .loc[row_indexer,col_indexer] = value instead\n",
      "\n",
      "See the caveats in the documentation: http://pandas.pydata.org/pandas-docs/stable/indexing.html#indexing-view-versus-copy\n",
      "  \n",
      "/anaconda3/lib/python3.6/site-packages/ipykernel_launcher.py:7: SettingWithCopyWarning: \n",
      "A value is trying to be set on a copy of a slice from a DataFrame.\n",
      "Try using .loc[row_indexer,col_indexer] = value instead\n",
      "\n",
      "See the caveats in the documentation: http://pandas.pydata.org/pandas-docs/stable/indexing.html#indexing-view-versus-copy\n",
      "  import sys\n",
      "/anaconda3/lib/python3.6/site-packages/ipykernel_launcher.py:8: SettingWithCopyWarning: \n",
      "A value is trying to be set on a copy of a slice from a DataFrame.\n",
      "Try using .loc[row_indexer,col_indexer] = value instead\n",
      "\n",
      "See the caveats in the documentation: http://pandas.pydata.org/pandas-docs/stable/indexing.html#indexing-view-versus-copy\n",
      "  \n",
      "/anaconda3/lib/python3.6/site-packages/ipykernel_launcher.py:6: SettingWithCopyWarning: \n",
      "A value is trying to be set on a copy of a slice from a DataFrame.\n",
      "Try using .loc[row_indexer,col_indexer] = value instead\n",
      "\n",
      "See the caveats in the documentation: http://pandas.pydata.org/pandas-docs/stable/indexing.html#indexing-view-versus-copy\n",
      "  \n"
     ]
    },
    {
     "name": "stdout",
     "output_type": "stream",
     "text": [
      "       Yield    OAD  Return  MarketValue  RollDown  ReturnVsAvg       Date\n",
      "15.75  5.216  10.60    0.45    1764845.0    0.0000    -1.412857 1998-12-31\n",
      "16     5.336  15.70   -0.01     685366.0    7.5360    -1.872857 1998-12-31\n",
      "16.5   5.456  16.18    0.47      72978.0    5.1776    -1.392857 1998-12-31\n",
      "16.75  5.536  16.42    0.98     429867.0    5.2544    -0.882857 1998-12-31\n",
      "17     5.586  16.66    1.65      32703.0    4.1650    -0.212857 1998-12-31\n"
     ]
    }
   ],
   "source": [
    "FinalDF=pd.DataFrame(columns=['Yield','OAD','Return','MarketValue','RollDown','ReturnVsAvg','Date'])\n",
    "DateSet=data1.index.get_level_values('Date').unique()\n",
    "for D in DateSet:\n",
    "    test = data1.xs(D,level=\"Date\")\n",
    "    #print (len(RollDownReturn(test.index,test[\"Yield\"],test[\"OAD\"])))\n",
    "    test['RollDown']=RollDownReturn(test.index,test[\"Yield\"],test[\"OAD\"])\n",
    "    test['ReturnVsAvg']=test['Return']-test['Return'].mean()\n",
    "    test['Date']=D\n",
    "    FinalDF=FinalDF.append(test)\n",
    "print(FinalDF.head())"
   ]
  },
  {
   "cell_type": "code",
   "execution_count": 17,
   "metadata": {},
   "outputs": [
    {
     "name": "stdout",
     "output_type": "stream",
     "text": [
      "Maturity  Yield    OAD  Return  MarketValue  RollDown  ReturnVsAvg       Date\n",
      "15.75     5.216  10.60    0.45    1764845.0    0.0000    -1.412857 1998-12-31\n",
      "16        5.336  15.70   -0.01     685366.0    7.5360    -1.872857 1998-12-31\n",
      "16.5      5.456  16.18    0.47      72978.0    5.1776    -1.392857 1998-12-31\n",
      "16.75     5.536  16.42    0.98     429867.0    5.2544    -0.882857 1998-12-31\n",
      "17        5.586  16.66    1.65      32703.0    4.1650    -0.212857 1998-12-31\n"
     ]
    }
   ],
   "source": [
    "FinalDF.columns.names=[\"Maturity\"]\n",
    "FinalDF.set_index(['Date'], append=True)\n",
    "print(FinalDF.head())"
   ]
  },
  {
   "cell_type": "code",
   "execution_count": 18,
   "metadata": {},
   "outputs": [
    {
     "data": {
      "text/html": [
       "<div>\n",
       "<style scoped>\n",
       "    .dataframe tbody tr th:only-of-type {\n",
       "        vertical-align: middle;\n",
       "    }\n",
       "\n",
       "    .dataframe tbody tr th {\n",
       "        vertical-align: top;\n",
       "    }\n",
       "\n",
       "    .dataframe thead th {\n",
       "        text-align: right;\n",
       "    }\n",
       "</style>\n",
       "<table border=\"1\" class=\"dataframe\">\n",
       "  <thead>\n",
       "    <tr style=\"text-align: right;\">\n",
       "      <th>Maturity</th>\n",
       "      <th>Yield</th>\n",
       "      <th>OAD</th>\n",
       "      <th>Return</th>\n",
       "      <th>MarketValue</th>\n",
       "      <th>RollDown</th>\n",
       "      <th>ReturnVsAvg</th>\n",
       "    </tr>\n",
       "  </thead>\n",
       "  <tbody>\n",
       "    <tr>\n",
       "      <th>count</th>\n",
       "      <td>6603.000000</td>\n",
       "      <td>6603.000000</td>\n",
       "      <td>6603.000000</td>\n",
       "      <td>6.601000e+03</td>\n",
       "      <td>6603.000000</td>\n",
       "      <td>6.603000e+03</td>\n",
       "    </tr>\n",
       "    <tr>\n",
       "      <th>mean</th>\n",
       "      <td>4.416512</td>\n",
       "      <td>23.561266</td>\n",
       "      <td>0.718455</td>\n",
       "      <td>1.817173e+06</td>\n",
       "      <td>0.231100</td>\n",
       "      <td>2.918896e-17</td>\n",
       "    </tr>\n",
       "    <tr>\n",
       "      <th>std</th>\n",
       "      <td>1.261037</td>\n",
       "      <td>4.844823</td>\n",
       "      <td>5.241959</td>\n",
       "      <td>1.600606e+06</td>\n",
       "      <td>1.152736</td>\n",
       "      <td>1.176066e+00</td>\n",
       "    </tr>\n",
       "    <tr>\n",
       "      <th>min</th>\n",
       "      <td>1.775000</td>\n",
       "      <td>10.410000</td>\n",
       "      <td>-24.540000</td>\n",
       "      <td>0.000000e+00</td>\n",
       "      <td>-11.404000</td>\n",
       "      <td>-1.211769e+01</td>\n",
       "    </tr>\n",
       "    <tr>\n",
       "      <th>25%</th>\n",
       "      <td>3.108000</td>\n",
       "      <td>19.355000</td>\n",
       "      <td>-2.520000</td>\n",
       "      <td>6.926560e+05</td>\n",
       "      <td>-0.323983</td>\n",
       "      <td>-3.732125e-01</td>\n",
       "    </tr>\n",
       "    <tr>\n",
       "      <th>50%</th>\n",
       "      <td>4.625000</td>\n",
       "      <td>23.690000</td>\n",
       "      <td>0.750000</td>\n",
       "      <td>1.394685e+06</td>\n",
       "      <td>0.257440</td>\n",
       "      <td>-8.333333e-04</td>\n",
       "    </tr>\n",
       "    <tr>\n",
       "      <th>75%</th>\n",
       "      <td>5.540500</td>\n",
       "      <td>27.620000</td>\n",
       "      <td>3.805000</td>\n",
       "      <td>2.343275e+06</td>\n",
       "      <td>0.883248</td>\n",
       "      <td>3.518750e-01</td>\n",
       "    </tr>\n",
       "    <tr>\n",
       "      <th>max</th>\n",
       "      <td>6.944000</td>\n",
       "      <td>33.700000</td>\n",
       "      <td>36.450000</td>\n",
       "      <td>9.937794e+06</td>\n",
       "      <td>9.372000</td>\n",
       "      <td>1.377950e+01</td>\n",
       "    </tr>\n",
       "  </tbody>\n",
       "</table>\n",
       "</div>"
      ],
      "text/plain": [
       "Maturity        Yield          OAD       Return   MarketValue     RollDown  \\\n",
       "count     6603.000000  6603.000000  6603.000000  6.601000e+03  6603.000000   \n",
       "mean         4.416512    23.561266     0.718455  1.817173e+06     0.231100   \n",
       "std          1.261037     4.844823     5.241959  1.600606e+06     1.152736   \n",
       "min          1.775000    10.410000   -24.540000  0.000000e+00   -11.404000   \n",
       "25%          3.108000    19.355000    -2.520000  6.926560e+05    -0.323983   \n",
       "50%          4.625000    23.690000     0.750000  1.394685e+06     0.257440   \n",
       "75%          5.540500    27.620000     3.805000  2.343275e+06     0.883248   \n",
       "max          6.944000    33.700000    36.450000  9.937794e+06     9.372000   \n",
       "\n",
       "Maturity   ReturnVsAvg  \n",
       "count     6.603000e+03  \n",
       "mean      2.918896e-17  \n",
       "std       1.176066e+00  \n",
       "min      -1.211769e+01  \n",
       "25%      -3.732125e-01  \n",
       "50%      -8.333333e-04  \n",
       "75%       3.518750e-01  \n",
       "max       1.377950e+01  "
      ]
     },
     "execution_count": 18,
     "metadata": {},
     "output_type": "execute_result"
    }
   ],
   "source": [
    "FinalDF.describe()"
   ]
  },
  {
   "cell_type": "markdown",
   "metadata": {},
   "source": [
    "#### Plot Return and Rolldown Return distribution"
   ]
  },
  {
   "cell_type": "code",
   "execution_count": 19,
   "metadata": {},
   "outputs": [
    {
     "data": {
      "text/plain": [
       "<matplotlib.axes._subplots.AxesSubplot at 0x109be84a8>"
      ]
     },
     "execution_count": 19,
     "metadata": {},
     "output_type": "execute_result"
    },
    {
     "data": {
      "image/png": "[encoded data removed]",
      "text/plain": [
       "<matplotlib.figure.Figure at 0x109bdbe80>"
      ]
     },
     "metadata": {},
     "output_type": "display_data"
    }
   ],
   "source": [
    "#plot the distribution of each variable \n",
    "FinalDF['Return'].plot(kind=\"density\",xlim=(-40,40))"
   ]
  },
  {
   "cell_type": "code",
   "execution_count": 20,
   "metadata": {},
   "outputs": [
    {
     "data": {
      "text/plain": [
       "<matplotlib.axes._subplots.AxesSubplot at 0x105bd2588>"
      ]
     },
     "execution_count": 20,
     "metadata": {},
     "output_type": "execute_result"
    },
    {
     "data": {
      "image/png": "[encoded data removed]",
      "text/plain": [
       "<matplotlib.figure.Figure at 0x10996fe80>"
      ]
     },
     "metadata": {},
     "output_type": "display_data"
    }
   ],
   "source": [
    "FinalDF['RollDown'].plot(kind=\"density\",xlim=(-20,20))"
   ]
  },
  {
   "cell_type": "markdown",
   "metadata": {},
   "source": [
    "#### Calculate Correlation and Skewness, Kurtness of the rolldown return"
   ]
  },
  {
   "cell_type": "code",
   "execution_count": 21,
   "metadata": {},
   "outputs": [
    {
     "data": {
      "text/plain": [
       "0.07198220401168177"
      ]
     },
     "execution_count": 21,
     "metadata": {},
     "output_type": "execute_result"
    }
   ],
   "source": [
    "FinalDF['ReturnVsAvg'].corr(FinalDF['RollDown'])"
   ]
  },
  {
   "cell_type": "code",
   "execution_count": 22,
   "metadata": {},
   "outputs": [
    {
     "data": {
      "text/plain": [
       "-1.17781135963977"
      ]
     },
     "execution_count": 22,
     "metadata": {},
     "output_type": "execute_result"
    }
   ],
   "source": [
    "FinalDF['RollDown'].skew()"
   ]
  },
  {
   "cell_type": "code",
   "execution_count": 23,
   "metadata": {},
   "outputs": [
    {
     "data": {
      "text/plain": [
       "12.40467752486392"
      ]
     },
     "execution_count": 23,
     "metadata": {},
     "output_type": "execute_result"
    }
   ],
   "source": [
    "FinalDF['RollDown'].kurt()"
   ]
  },
  {
   "cell_type": "markdown",
   "metadata": {},
   "source": [
    "### Scatter Plot the relationship between Rolldown Return and Relative bond return"
   ]
  },
  {
   "cell_type": "code",
   "execution_count": 24,
   "metadata": {},
   "outputs": [
    {
     "data": {
      "image/png": "[encoded data removed]",
      "text/plain": [
       "<matplotlib.figure.Figure at 0x1058f8588>"
      ]
     },
     "metadata": {},
     "output_type": "display_data"
    }
   ],
   "source": [
    "# create a matplotlib figure\n",
    "pl.figure()\n",
    "# generate a scatterplot inside the figure\n",
    "pl.plot(FinalDF.RollDown, FinalDF.ReturnVsAvg, '.')\n",
    "# show the plot\n",
    "pl.show()"
   ]
  },
  {
   "cell_type": "markdown",
   "metadata": {},
   "source": [
    "## Repeat same process on coupon strips"
   ]
  },
  {
   "cell_type": "code",
   "execution_count": 25,
   "metadata": {},
   "outputs": [],
   "source": [
    "dfSOAD= pd.read_csv(\"./data/SOAD.csv\")\n",
    "dfSOAD['Date']=pd.to_datetime(dfSOAD['Date'])\n",
    "dfSOAD.set_index(['Date'],drop=True,inplace=True)"
   ]
  },
  {
   "cell_type": "code",
   "execution_count": 26,
   "metadata": {},
   "outputs": [],
   "source": [
    "x=dfSOAD\n",
    "y=x.stack()\n",
    "y=y.to_frame()\n",
    "y.columns.names=[\"Maturity\"]\n",
    "y = y.rename(columns= {0: 'OAD'})"
   ]
  },
  {
   "cell_type": "code",
   "execution_count": 27,
   "metadata": {},
   "outputs": [],
   "source": [
    "dfSYield= pd.read_csv(\"./data/SYield.csv\")\n",
    "dfSYield['Date']=pd.to_datetime(dfSYield['Date'])\n",
    "dfSYield.set_index(['Date'],drop=True,inplace=True)\n",
    "\n",
    "x1 = dfSYield\n",
    "y1=x1.stack()\n",
    "y1=y1.to_frame()\n",
    "y1.columns.names=[\"Maturity\"]\n",
    "y1 = y1.rename(columns= {0: 'Yield'})"
   ]
  },
  {
   "cell_type": "code",
   "execution_count": 28,
   "metadata": {},
   "outputs": [],
   "source": [
    "dfSReturn= pd.read_csv(\"./data/SReturn.csv\")\n",
    "dfSReturn['Date']=pd.to_datetime(dfSReturn['Date'])\n",
    "dfSReturn.set_index(['Date'],drop=True,inplace=True)\n",
    "\n",
    "x2 = dfSReturn\n",
    "y2=x2.stack()\n",
    "y2=y2.to_frame()\n",
    "y2.columns.names=[\"Maturity\"]\n",
    "y2 = y2.rename(columns= {0: 'Return'})"
   ]
  },
  {
   "cell_type": "code",
   "execution_count": 29,
   "metadata": {},
   "outputs": [],
   "source": [
    "dfSMV= pd.read_csv('./data/SMV.csv')\n",
    "dfSMV['Date']=pd.to_datetime(dfSMV['Date'])\n",
    "dfSMV.set_index(['Date'],drop=True,inplace=True)\n",
    "\n",
    "x3 = dfSMV\n",
    "y3=x3.stack()\n",
    "y3=y3.to_frame()\n",
    "y3.columns.names=[\"Maturity\"]\n",
    "y3 = y3.rename(columns= {0: 'MarketValue'})"
   ]
  },
  {
   "cell_type": "code",
   "execution_count": 30,
   "metadata": {},
   "outputs": [],
   "source": [
    "frames=[y1,y]\n",
    "\n",
    "dataS1=pd.concat(frames, keys=[\"Date\",\"Maturity\"],axis=1)\n",
    "\n",
    "frames=[y2,y3]\n",
    "\n",
    "dataS2=pd.concat(frames, keys=[\"Date\",\"Maturity\"],axis=1)\n",
    "\n",
    "frames=[dataS1,dataS2]\n",
    "\n",
    "dataS=pd.concat(frames, keys=[\"Date\",\"Maturity\"],axis=1)"
   ]
  },
  {
   "cell_type": "code",
   "execution_count": 31,
   "metadata": {},
   "outputs": [],
   "source": [
    "dataSF=pd.DataFrame(dataS.values)\n",
    "dataSF.columns=[\"Yield\",\"OAD\",\"Return\",\"MarketValue\"]\n",
    "dataSF.index=dataS.index"
   ]
  },
  {
   "cell_type": "code",
   "execution_count": 32,
   "metadata": {},
   "outputs": [
    {
     "name": "stdout",
     "output_type": "stream",
     "text": [
      "                  Yield    OAD  Return  MarketValue\n",
      "Date                                               \n",
      "1998-12-31 15     5.496  14.72    1.36    1398081.0\n",
      "           15.25  5.516  14.96    1.38    1479603.0\n",
      "           15.5   5.526  15.20    1.39    1354497.0\n",
      "           15.75  5.536  15.44    1.41    1435450.0\n",
      "           16     5.546  15.69    1.26    1313949.0\n",
      "           16.25  5.566  15.93    1.45    1316255.0\n",
      "           16.5   5.576  16.17    1.29    1236189.0\n",
      "           16.75  5.586  16.41    1.15    1276419.0\n",
      "           17     5.596  16.66    1.15    1194972.0\n",
      "           17.25  5.606  16.90    1.34    1217137.0\n",
      "           17.5   5.606  17.14    1.17    1158989.0\n",
      "           17.75  5.616  17.38    1.37    1178370.0\n",
      "           18     5.626  17.63    1.37    1123421.0\n",
      "           18.25  5.626  17.87    1.39    1130826.0\n",
      "           18.5   5.626  18.11    1.40    1092684.0\n",
      "           18.75  5.626  18.35    1.42     948414.0\n",
      "           19.25  5.629  18.84    1.58     921944.0\n",
      "           19.5   5.629  19.09    1.97     956818.0\n",
      "           19.75  5.639  19.33    1.80     802200.0\n",
      "           20     5.639  19.57    1.61     928806.0\n",
      "           20.25  5.639  19.81    1.63     679268.0\n",
      "           20.5   5.639  20.06    1.64     701259.0\n",
      "           20.75  5.639  20.30    1.66     660641.0\n",
      "           21     5.639  20.54    1.67     663056.0\n",
      "           21.25  5.639  20.78    1.69     642525.0\n",
      "           21.5   5.639  21.03    1.70     587189.0\n",
      "           21.75  5.619  21.27    1.50     526912.0\n",
      "           22     5.639  21.52    1.73     366025.0\n",
      "           22.25  5.629  21.76    1.53     511399.0\n",
      "           22.5   5.619  22.00    1.53     345634.0\n",
      "...                 ...    ...     ...          ...\n",
      "2018-02-28 21.75  3.150  22.06    3.85     817371.0\n",
      "           22     3.160  22.32    4.03     815745.0\n",
      "           22.25  3.165  22.58    4.07     716312.0\n",
      "           22.5   3.171  22.84    4.12     706854.0\n",
      "           22.75  3.177  23.10    4.22     683128.0\n",
      "           23     3.177  23.35    4.16     651824.0\n",
      "           23.25  3.183  23.61    4.26     657130.0\n",
      "           23.5   3.185  23.88    4.23     612780.0\n",
      "           23.75  3.188  24.13    4.36     625921.0\n",
      "           24     3.191  24.39    4.28     590276.0\n",
      "           24.25  3.193  24.65    4.23     607978.0\n",
      "           24.5   3.199  24.91    4.36     571375.0\n",
      "           24.75  3.198  25.17    4.28     576348.0\n",
      "           25     3.201  25.43    4.32     527431.0\n",
      "           25.25  3.208  25.69    4.44     478119.0\n",
      "           25.5   3.220  25.95    4.84     464177.0\n",
      "           25.75  3.212  26.21    4.60     407920.0\n",
      "           26     3.204  26.47    4.48     422682.0\n",
      "           26.25  3.208  26.73    4.68     289162.0\n",
      "           26.5   3.205  26.99    4.67     323815.0\n",
      "           26.75  3.204  27.25    4.59     249525.0\n",
      "           27     3.199  27.51    4.81     260669.0\n",
      "           27.25  3.195  27.77    4.65     202405.0\n",
      "           27.5   3.187  28.03    4.81     208562.0\n",
      "           27.75  3.188  28.29    4.71     124836.0\n",
      "           28     3.182  28.55    4.84     120292.0\n",
      "           28.25  3.186  28.82    4.87      84508.0\n",
      "           28.5   3.194  29.08    4.91      89501.0\n",
      "           28.75  3.186  29.34    5.06      67680.0\n",
      "           29     3.197  29.59    5.04      41986.0\n",
      "\n",
      "[12675 rows x 4 columns]\n"
     ]
    }
   ],
   "source": [
    "print(dataSF)"
   ]
  },
  {
   "cell_type": "code",
   "execution_count": 33,
   "metadata": {},
   "outputs": [
    {
     "name": "stderr",
     "output_type": "stream",
     "text": [
      "/anaconda3/lib/python3.6/site-packages/ipykernel_launcher.py:5: SettingWithCopyWarning: \n",
      "A value is trying to be set on a copy of a slice from a DataFrame.\n",
      "Try using .loc[row_indexer,col_indexer] = value instead\n",
      "\n",
      "See the caveats in the documentation: http://pandas.pydata.org/pandas-docs/stable/indexing.html#indexing-view-versus-copy\n",
      "  \"\"\"\n",
      "/anaconda3/lib/python3.6/site-packages/ipykernel_launcher.py:6: SettingWithCopyWarning: \n",
      "A value is trying to be set on a copy of a slice from a DataFrame.\n",
      "Try using .loc[row_indexer,col_indexer] = value instead\n",
      "\n",
      "See the caveats in the documentation: http://pandas.pydata.org/pandas-docs/stable/indexing.html#indexing-view-versus-copy\n",
      "  \n",
      "/anaconda3/lib/python3.6/site-packages/ipykernel_launcher.py:7: SettingWithCopyWarning: \n",
      "A value is trying to be set on a copy of a slice from a DataFrame.\n",
      "Try using .loc[row_indexer,col_indexer] = value instead\n",
      "\n",
      "See the caveats in the documentation: http://pandas.pydata.org/pandas-docs/stable/indexing.html#indexing-view-versus-copy\n",
      "  import sys\n",
      "/anaconda3/lib/python3.6/site-packages/ipykernel_launcher.py:8: SettingWithCopyWarning: \n",
      "A value is trying to be set on a copy of a slice from a DataFrame.\n",
      "Try using .loc[row_indexer,col_indexer] = value instead\n",
      "\n",
      "See the caveats in the documentation: http://pandas.pydata.org/pandas-docs/stable/indexing.html#indexing-view-versus-copy\n",
      "  \n"
     ]
    },
    {
     "name": "stdout",
     "output_type": "stream",
     "text": [
      "            Date  MarketValue    OAD  OADadjRet  Return  ReturnVsAvg  \\\n",
      "15    1998-12-31    1398081.0  14.72   0.092391    1.36    -0.004426   \n",
      "15.25 1998-12-31    1479603.0  14.96   0.092246    1.38    -0.004571   \n",
      "15.5  1998-12-31    1354497.0  15.20   0.091447    1.39    -0.005370   \n",
      "15.75 1998-12-31    1435450.0  15.44   0.091321    1.41    -0.005496   \n",
      "16    1998-12-31    1313949.0  15.69   0.080306    1.26    -0.016511   \n",
      "\n",
      "       RollDown  Yield  \n",
      "15     0.000000  5.496  \n",
      "15.25  1.196800  5.516  \n",
      "15.5   0.912000  5.526  \n",
      "15.75  0.823467  5.536  \n",
      "16     0.627600  5.546  \n"
     ]
    }
   ],
   "source": [
    "FinalDF_S=pd.DataFrame(columns=['Yield','OAD','Return','MarketValue','RollDown','ReturnVsAvg','OADadjRet','Date'])\n",
    "DateSet_S=dataSF.index.get_level_values('Date').unique()\n",
    "for D in DateSet_S:\n",
    "    test = dataSF.xs(D,level=\"Date\")\n",
    "    test['RollDown']=RollDownReturn(test.index,test[\"Yield\"],test[\"OAD\"])\n",
    "    test['OADadjRet']=test['Return']/test['OAD']\n",
    "    test['ReturnVsAvg']=test['OADadjRet']-test['OADadjRet'].mean()\n",
    "    test['Date']=D\n",
    "    FinalDF_S=FinalDF_S.append(test)\n",
    "print(FinalDF_S.head())"
   ]
  },
  {
   "cell_type": "code",
   "execution_count": 34,
   "metadata": {},
   "outputs": [
    {
     "name": "stdout",
     "output_type": "stream",
     "text": [
      "Maturity       Date  MarketValue    OAD  OADadjRet  Return  ReturnVsAvg  \\\n",
      "15       1998-12-31    1398081.0  14.72   0.092391    1.36    -0.004426   \n",
      "15.25    1998-12-31    1479603.0  14.96   0.092246    1.38    -0.004571   \n",
      "15.5     1998-12-31    1354497.0  15.20   0.091447    1.39    -0.005370   \n",
      "15.75    1998-12-31    1435450.0  15.44   0.091321    1.41    -0.005496   \n",
      "16       1998-12-31    1313949.0  15.69   0.080306    1.26    -0.016511   \n",
      "\n",
      "Maturity  RollDown  Yield  \n",
      "15        0.000000  5.496  \n",
      "15.25     1.196800  5.516  \n",
      "15.5      0.912000  5.526  \n",
      "15.75     0.823467  5.536  \n",
      "16        0.627600  5.546  \n"
     ]
    }
   ],
   "source": [
    "FinalDF_S.columns.names=[\"Maturity\"]\n",
    "FinalDF_S.set_index(['Date'], append=True)\n",
    "print(FinalDF_S.head())"
   ]
  },
  {
   "cell_type": "code",
   "execution_count": 35,
   "metadata": {},
   "outputs": [
    {
     "data": {
      "text/html": [
       "<div>\n",
       "<style scoped>\n",
       "    .dataframe tbody tr th:only-of-type {\n",
       "        vertical-align: middle;\n",
       "    }\n",
       "\n",
       "    .dataframe tbody tr th {\n",
       "        vertical-align: top;\n",
       "    }\n",
       "\n",
       "    .dataframe thead th {\n",
       "        text-align: right;\n",
       "    }\n",
       "</style>\n",
       "<table border=\"1\" class=\"dataframe\">\n",
       "  <thead>\n",
       "    <tr style=\"text-align: right;\">\n",
       "      <th>Maturity</th>\n",
       "      <th>MarketValue</th>\n",
       "      <th>OAD</th>\n",
       "      <th>OADadjRet</th>\n",
       "      <th>Return</th>\n",
       "      <th>ReturnVsAvg</th>\n",
       "      <th>RollDown</th>\n",
       "      <th>Yield</th>\n",
       "    </tr>\n",
       "  </thead>\n",
       "  <tbody>\n",
       "    <tr>\n",
       "      <th>count</th>\n",
       "      <td>1.267500e+04</td>\n",
       "      <td>12675.000000</td>\n",
       "      <td>12675.000000</td>\n",
       "      <td>12675.000000</td>\n",
       "      <td>1.267500e+04</td>\n",
       "      <td>12675.000000</td>\n",
       "      <td>12675.000000</td>\n",
       "    </tr>\n",
       "    <tr>\n",
       "      <th>mean</th>\n",
       "      <td>4.495431e+05</td>\n",
       "      <td>22.664312</td>\n",
       "      <td>0.033386</td>\n",
       "      <td>0.736404</td>\n",
       "      <td>2.373731e-18</td>\n",
       "      <td>0.129990</td>\n",
       "      <td>4.410730</td>\n",
       "    </tr>\n",
       "    <tr>\n",
       "      <th>std</th>\n",
       "      <td>3.373483e+05</td>\n",
       "      <td>4.332160</td>\n",
       "      <td>0.233669</td>\n",
       "      <td>5.360594</td>\n",
       "      <td>3.791072e-02</td>\n",
       "      <td>0.941097</td>\n",
       "      <td>1.204879</td>\n",
       "    </tr>\n",
       "    <tr>\n",
       "      <th>min</th>\n",
       "      <td>0.000000e+00</td>\n",
       "      <td>14.430000</td>\n",
       "      <td>-0.986994</td>\n",
       "      <td>-26.730000</td>\n",
       "      <td>-4.082798e-01</td>\n",
       "      <td>-12.807500</td>\n",
       "      <td>1.876000</td>\n",
       "    </tr>\n",
       "    <tr>\n",
       "      <th>25%</th>\n",
       "      <td>1.398695e+05</td>\n",
       "      <td>19.030000</td>\n",
       "      <td>-0.115391</td>\n",
       "      <td>-2.590000</td>\n",
       "      <td>-1.475098e-02</td>\n",
       "      <td>-0.288187</td>\n",
       "      <td>3.186500</td>\n",
       "    </tr>\n",
       "    <tr>\n",
       "      <th>50%</th>\n",
       "      <td>4.054250e+05</td>\n",
       "      <td>22.530000</td>\n",
       "      <td>0.030157</td>\n",
       "      <td>0.630000</td>\n",
       "      <td>1.434164e-04</td>\n",
       "      <td>0.252653</td>\n",
       "      <td>4.609000</td>\n",
       "    </tr>\n",
       "    <tr>\n",
       "      <th>75%</th>\n",
       "      <td>7.128240e+05</td>\n",
       "      <td>26.065000</td>\n",
       "      <td>0.171726</td>\n",
       "      <td>3.770000</td>\n",
       "      <td>1.383370e-02</td>\n",
       "      <td>0.689887</td>\n",
       "      <td>5.379000</td>\n",
       "    </tr>\n",
       "    <tr>\n",
       "      <th>max</th>\n",
       "      <td>1.486540e+06</td>\n",
       "      <td>33.700000</td>\n",
       "      <td>1.425418</td>\n",
       "      <td>29.430000</td>\n",
       "      <td>3.757267e-01</td>\n",
       "      <td>5.188480</td>\n",
       "      <td>6.954000</td>\n",
       "    </tr>\n",
       "  </tbody>\n",
       "</table>\n",
       "</div>"
      ],
      "text/plain": [
       "Maturity   MarketValue           OAD     OADadjRet        Return  \\\n",
       "count     1.267500e+04  12675.000000  12675.000000  12675.000000   \n",
       "mean      4.495431e+05     22.664312      0.033386      0.736404   \n",
       "std       3.373483e+05      4.332160      0.233669      5.360594   \n",
       "min       0.000000e+00     14.430000     -0.986994    -26.730000   \n",
       "25%       1.398695e+05     19.030000     -0.115391     -2.590000   \n",
       "50%       4.054250e+05     22.530000      0.030157      0.630000   \n",
       "75%       7.128240e+05     26.065000      0.171726      3.770000   \n",
       "max       1.486540e+06     33.700000      1.425418     29.430000   \n",
       "\n",
       "Maturity   ReturnVsAvg      RollDown         Yield  \n",
       "count     1.267500e+04  12675.000000  12675.000000  \n",
       "mean      2.373731e-18      0.129990      4.410730  \n",
       "std       3.791072e-02      0.941097      1.204879  \n",
       "min      -4.082798e-01    -12.807500      1.876000  \n",
       "25%      -1.475098e-02     -0.288187      3.186500  \n",
       "50%       1.434164e-04      0.252653      4.609000  \n",
       "75%       1.383370e-02      0.689887      5.379000  \n",
       "max       3.757267e-01      5.188480      6.954000  "
      ]
     },
     "execution_count": 35,
     "metadata": {},
     "output_type": "execute_result"
    }
   ],
   "source": [
    "FinalDF_S.describe()"
   ]
  },
  {
   "cell_type": "code",
   "execution_count": 36,
   "metadata": {},
   "outputs": [
    {
     "data": {
      "text/plain": [
       "<matplotlib.axes._subplots.AxesSubplot at 0x105c1c198>"
      ]
     },
     "execution_count": 36,
     "metadata": {},
     "output_type": "execute_result"
    },
    {
     "data": {
      "image/png": "[encoded data removed]",
      "text/plain": [
       "<matplotlib.figure.Figure at 0x104042e80>"
      ]
     },
     "metadata": {},
     "output_type": "display_data"
    }
   ],
   "source": [
    "FinalDF_S['Return'].plot(kind=\"density\",xlim=(-30,30))"
   ]
  },
  {
   "cell_type": "code",
   "execution_count": 37,
   "metadata": {},
   "outputs": [
    {
     "data": {
      "text/plain": [
       "<matplotlib.axes._subplots.AxesSubplot at 0x105911748>"
      ]
     },
     "execution_count": 37,
     "metadata": {},
     "output_type": "execute_result"
    },
    {
     "data": {
      "image/png": "[encoded data removed]",
      "text/plain": [
       "<matplotlib.figure.Figure at 0x105938160>"
      ]
     },
     "metadata": {},
     "output_type": "display_data"
    }
   ],
   "source": [
    "FinalDF_S['RollDown'].plot(kind=\"density\",xlim=(-20,15))"
   ]
  },
  {
   "cell_type": "code",
   "execution_count": 38,
   "metadata": {},
   "outputs": [
    {
     "data": {
      "text/plain": [
       "0.1458400338696924"
      ]
     },
     "execution_count": 38,
     "metadata": {},
     "output_type": "execute_result"
    }
   ],
   "source": [
    "FinalDF_S['ReturnVsAvg'].corr(FinalDF_S['RollDown'])"
   ]
  },
  {
   "cell_type": "code",
   "execution_count": 39,
   "metadata": {},
   "outputs": [
    {
     "name": "stdout",
     "output_type": "stream",
     "text": [
      "-2.7835745253029387\n",
      "20.315305234645674\n"
     ]
    }
   ],
   "source": [
    "print(FinalDF_S['RollDown'].skew())\n",
    "print(FinalDF_S['RollDown'].kurt())"
   ]
  },
  {
   "cell_type": "code",
   "execution_count": 40,
   "metadata": {},
   "outputs": [
    {
     "data": {
      "image/png": "[encoded data removed]",
      "text/plain": [
       "<matplotlib.figure.Figure at 0x102081780>"
      ]
     },
     "metadata": {},
     "output_type": "display_data"
    }
   ],
   "source": [
    "\n",
    "# create a matplotlib figure\n",
    "pl.figure()\n",
    "# generate a scatterplot inside the figure\n",
    "pl.plot(FinalDF_S.RollDown, FinalDF_S.ReturnVsAvg, '.')\n",
    "# show the plot\n",
    "pl.show()"
   ]
  },
  {
   "cell_type": "markdown",
   "metadata": {},
   "source": [
    "## So the next step of the analysis is to find the relationship of rolldown return versus actual return of the subsequent month.\n",
    "Based on above data, I can see they are slightly positive correlated."
   ]
  },
  {
   "cell_type": "code",
   "execution_count": null,
   "metadata": {},
   "outputs": [],
   "source": []
  }
 ],
 "metadata": {
  "kernelspec": {
   "display_name": "Python 3",
   "language": "python",
   "name": "python3"
  },
  "language_info": {
   "codemirror_mode": {
    "name": "ipython",
    "version": 3
   },
   "file_extension": ".py",
   "mimetype": "text/x-python",
   "name": "python",
   "nbconvert_exporter": "python",
   "pygments_lexer": "ipython3",
   "version": "3.6.4"
  }
 },
 "nbformat": 4,
 "nbformat_minor": 2
}
